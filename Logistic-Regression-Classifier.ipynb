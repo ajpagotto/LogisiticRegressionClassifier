{
 "cells": [
  {
   "cell_type": "code",
   "execution_count": 3,
   "metadata": {},
   "outputs": [],
   "source": [
    "import scipy.io\n",
    "import numpy as np\n",
    "import matplotlib.pyplot as plt\n",
    "import random\n",
    "import os\n",
    "\n",
    "from classifier import *"
   ]
  },
  {
   "cell_type": "markdown",
   "metadata": {},
   "source": [
    "## Logistic Regression"
   ]
  },
  {
   "cell_type": "markdown",
   "metadata": {},
   "source": [
    "The following document will explain the model used for logistic regression, how the code was implemented, and the results on all the given datasets.\n",
    "\n",
    "By running \"logisticregression.py\" with the next argument as the desired dataset, this code can be run in the terminal for any specified dataset. The specific command would be:\n",
    "python logisticregression.py 'classify\\_d5\\_k3\\_saved2.mat'\n",
    "\n",
    "The example dataset shown can be replaced with any of the given datasets."
   ]
  },
  {
   "cell_type": "markdown",
   "metadata": {},
   "source": [
    "### Description of the Model"
   ]
  },
  {
   "cell_type": "markdown",
   "metadata": {},
   "source": [
    "Logisitic regression is a discriminative graphical model, meaning that it directly maximizes $p(y|x)$. Logisitic regression is a modification of linear regression, by subsitution the hypothesis function of a linear mapping, to the sigmoid function. The use of the sigmoid function for hypothesis results in outputting values between 0 and 1, which are then translated to either 0 or 1 based on a threshold (of 0.5) for the binary classification task. The hypothesis with the sigmoid function is:\n",
    "$$p(y=1|x) = h_{\\theta} = \\frac{1}{1+\\exp{(-\\theta^Tx)}}$$\n",
    "$$p(y=0|x) = 1- h_{\\theta}$$\n",
    "Note in our case $y=1$ corresponds to class 2, and $y=0$ corresponds to class 1.\n",
    "\n",
    "To find the parameters $\\theta$, the maximum likelihod estimation is used. Training a model to find the parameters  can be done by maximizing the conditional log likelihood of the training data.\n",
    "\n",
    "The logistic regression cost function is:\n",
    "$$Cost(h_{\\theta}(x), y) = y*(-\\log(h_{\\theta}(x))) + (1-y)*(-\\log(1-h_{\\theta}(x)))$$\n",
    "\n",
    "For a training set with $m$ points, the likelihood of the parameters is:\n",
    "$$L(\\theta)= p(Y|X; \\theta)$$ \n",
    "Where, the $L$ represents the likelihood, the $Y$ and $X$ represent the class and data for all the points in the training set. Using the chain rules for probabilities and the previously given equation for $p(y^i|x^i;\\theta)$, this equation can be written as:\n",
    "$$L(\\theta)= \\prod_{i=1}^m (h_{\\theta}(x^i)^{y^i})(1-h_{\\theta}(x^i))^{1-y^i}$$ \n",
    "\n",
    "This can be transformed into the log likelihood:\n",
    "$$l(\\theta) = \\log L(\\theta)= \\sum_{i=1}^m y^i \\log (h_{\\theta}(x^i)) + (1-y^i) \\log(1-h_{\\theta}(x^i))$$\n",
    "\n",
    "The objective will be to maximize the log likelihood, and this can be done using gradient descent.\n",
    "\n",
    "In order to optimize the parameters, this can be done iteratively using gradient descent, to update the parameters at each step up the gradient towards the maximum. The update equation is:\n",
    "\n",
    "$$\\theta := \\theta + \\alpha \\nabla_{\\theta} l(\\theta)$$\n",
    "\n",
    "By taking gradient of the log likelihood function, this equation can be simplified to:\n",
    "$$\\theta := \\theta + \\alpha (y^i-h_{\\theta}(x^i))x_j^i$$\n",
    "\n",
    "This is the equation that was implemented in the code for gradient descent."
   ]
  },
  {
   "cell_type": "markdown",
   "metadata": {},
   "source": [
    "### Training Algorithm"
   ]
  },
  {
   "cell_type": "markdown",
   "metadata": {},
   "source": [
    "This section will show step by step the code that was used to execute the training of the model. This code was also consolidated into one function \"logistic_regression\" in the submitted python file. "
   ]
  },
  {
   "cell_type": "markdown",
   "metadata": {},
   "source": [
    "#### Loading Files"
   ]
  },
  {
   "cell_type": "markdown",
   "metadata": {},
   "source": [
    "First the files are loaded from the matlab file an formatted into the format required for use in python. The output of the format data function will be the training features and the class IDs in a list. In this code, $0$ was used to represent class 1, and $1$ was used to represent class 2. The features list, is a list of the feature vectors. Note the format data function also adds an extra column as required to enable setting parameters for the intercept, so that the parameters found are not restricted to passing through the origin."
   ]
  },
  {
   "cell_type": "code",
   "execution_count": 4,
   "metadata": {
    "collapsed": true
   },
   "outputs": [],
   "source": [
    "# load file\n",
    "mat = scipy.io.loadmat('classify_d4_k3_saved1.mat')\n",
    "features, classIDs = format_data(mat)"
   ]
  },
  {
   "cell_type": "markdown",
   "metadata": {},
   "source": [
    "#### Logistic Regression Parameters"
   ]
  },
  {
   "cell_type": "markdown",
   "metadata": {},
   "source": [
    "To begin logisitic regression, first set the required parameters, of the learning rate and the max number of steps for gradient descent."
   ]
  },
  {
   "cell_type": "code",
   "execution_count": 9,
   "metadata": {
    "collapsed": true
   },
   "outputs": [],
   "source": [
    "# logistic regression parameters\n",
    "\n",
    "num_steps = 500000\n",
    "learning_rate = 0.0001"
   ]
  },
  {
   "cell_type": "markdown",
   "metadata": {},
   "source": [
    "#### Gradient Descent"
   ]
  },
  {
   "cell_type": "markdown",
   "metadata": {},
   "source": [
    "Gradient descent for the parameters, $\\theta$, optimization will be used to update the parameters with the following equation: \n",
    "\n",
    "$$\\theta := \\theta + \\alpha (y^i - h_{\\theta}(x^i))x_j^i$$\n",
    "\n",
    "Where $\\alpha$ is the learning rate set in the previous section, the $x$ are the points in the training set, the $y$ is the class, and $h$ is the prediction of the class. The predictions $h$ are calculated using the sigmoid function.\n",
    "\n",
    "This equation will be executed in the following code. The loglikelihoods will be printed out as it proceeds to track the progress."
   ]
  },
  {
   "cell_type": "code",
   "execution_count": 10,
   "metadata": {},
   "outputs": [
    {
     "name": "stdout",
     "output_type": "stream",
     "text": [
      "-1371.4056583\n",
      "-815.68939063\n",
      "-815.662721761\n",
      "-815.662696567\n",
      "Gradient is close to 0, reached convergence.\n",
      "Final Loglikelihood:\n",
      "-815.662696545\n"
     ]
    }
   ],
   "source": [
    "# initialize parameters:\n",
    "params = np.ones(features.shape[1])\n",
    "\n",
    "# gradient descent\n",
    "for step in range(0, num_steps):\n",
    "    scores = np.dot(features, params)\n",
    "    predictions = sigmoid(scores)\n",
    "\n",
    "    # Update weights with log likelihood gradient\n",
    "    errors = classIDs - predictions\n",
    "        \n",
    "    gradient = np.dot(features.T, errors)\n",
    "    params += learning_rate * gradient\n",
    "    \n",
    "    if np.linalg.norm(gradient) < 0.0001:\n",
    "        print(\"Gradient is close to 0, reached convergence.\")\n",
    "        print(\"Final Loglikelihood:\")\n",
    "        print(log_likelihood(features, classIDs, params))\n",
    "        break\n",
    "    \n",
    "    # Print log-likelihoods\n",
    "    if step % 10000 == 0:\n",
    "        print(log_likelihood(features, classIDs, params))\n",
    "        \n",
    "    \n",
    "        "
   ]
  },
  {
   "cell_type": "markdown",
   "metadata": {},
   "source": [
    "### Results"
   ]
  },
  {
   "cell_type": "markdown",
   "metadata": {},
   "source": [
    "The following section will show step by step how the code generates the results from the parameters calculated for the model. The accuracy will be calculated and compared to the accruacy from a pre-built function in python sklearn."
   ]
  },
  {
   "cell_type": "markdown",
   "metadata": {},
   "source": [
    "#### Format Test Data "
   ]
  },
  {
   "cell_type": "markdown",
   "metadata": {},
   "source": [
    "First the data is formatted for the testing. This is done the same way as previously, however train is set to false, which means it will take data points not yet used in the training set. The train/test split is 80/20. The test data is taken as the last 20% of the data, and since this data was randomly generated, this method is acceptable (ie. it does not need to be shuffled before hand because it was already generated randomly)."
   ]
  },
  {
   "cell_type": "code",
   "execution_count": 11,
   "metadata": {
    "collapsed": true
   },
   "outputs": [],
   "source": [
    "test_features, test_classIDs = format_data(mat, train = False)"
   ]
  },
  {
   "cell_type": "markdown",
   "metadata": {},
   "source": [
    "#### Results on Test Data"
   ]
  },
  {
   "cell_type": "markdown",
   "metadata": {},
   "source": [
    "The results from one dataset is shown below. The final class predictions is obtained from the sigmoid. The cut-off threshold to associate class 0 or 1 with a given point is set at $0.5$, and this is accomplished by the round function. \n",
    "\n",
    "The data is also plotted to visualize the success of the classification. The left half of the graph should be class 0 and the right half of the graph should be class 1. The accuracy is calculated as the number of correctly classified points after the rounding."
   ]
  },
  {
   "cell_type": "code",
   "execution_count": 12,
   "metadata": {},
   "outputs": [
    {
     "data": {
      "image/png": "[encoded data removed]",
      "text/plain": [
       "<matplotlib.figure.Figure at 0x1a13eb7eb8>"
      ]
     },
     "metadata": {},
     "output_type": "display_data"
    },
    {
     "name": "stdout",
     "output_type": "stream",
     "text": [
      "Accuracy:\n",
      "0.64\n"
     ]
    }
   ],
   "source": [
    "test_scores = np.dot(test_features, params)\n",
    "preds = sigmoid(test_scores)\n",
    "acc = sum(np.round(preds) == test_classIDs) / len(preds)\n",
    "\n",
    "plt.plot(preds, 'ro')\n",
    "plt.show()\n",
    "\n",
    "print(\"Accuracy:\")\n",
    "print(acc)"
   ]
  },
  {
   "cell_type": "markdown",
   "metadata": {},
   "source": [
    "#### Comparison to Sklearn"
   ]
  },
  {
   "cell_type": "markdown",
   "metadata": {},
   "source": [
    "We compared to the accuracy of sklearn to validate the success of our implementation of this algorithm. It is clear that the accuracies from our implementation is similar to the accuracy from sklearn."
   ]
  },
  {
   "cell_type": "code",
   "execution_count": 13,
   "metadata": {},
   "outputs": [
    {
     "name": "stdout",
     "output_type": "stream",
     "text": [
      "Accuracy from sk-learn: \n",
      "0.64\n"
     ]
    }
   ],
   "source": [
    "from sklearn.linear_model import LogisticRegression\n",
    "\n",
    "clf = LogisticRegression(fit_intercept=True, C = 1e15)\n",
    "clf.fit(features[:,1:], classIDs)\n",
    "\n",
    "acc_sklearn = clf.score(test_features[:,1:], test_classIDs)\n",
    "\n",
    "print('Accuracy from sk-learn: ')\n",
    "print(acc_sklearn)"
   ]
  },
  {
   "cell_type": "markdown",
   "metadata": {},
   "source": [
    "#### Results on All Datasets"
   ]
  },
  {
   "cell_type": "markdown",
   "metadata": {},
   "source": [
    "The previous steps have been summarized into a training function and testing function. The training function called \"logistic_regression\", will load the data and run the gradient descent as previously shown, and the test function will repeat the steps shown in the testing section. This will facilitate running these operations on all the given datasets. \n",
    "In this section we will run these functions on all the data sets and print an output of the results for comparison."
   ]
  },
  {
   "cell_type": "code",
   "execution_count": 14,
   "metadata": {},
   "outputs": [
    {
     "name": "stdout",
     "output_type": "stream",
     "text": [
      "Results:\n",
      "File | Accuracy | sklearn Accuracy\n",
      "classify_d3_k2_saved1.mat| 0.655| 0.655\n",
      "classify_d3_k2_saved2.mat| 0.64| 0.64\n",
      "classify_d3_k2_saved3.mat| 0.6825| 0.6825\n",
      "classify_d4_k3_saved1.mat| 0.7325| 0.7325\n",
      "classify_d4_k3_saved2.mat| 0.7275| 0.7275\n",
      "classify_d5_k3_saved1.mat| 0.7175| 0.7175\n",
      "classify_d5_k3_saved2.mat| 0.7175| 0.72\n",
      "classify_d99_k50_saved1.mat| 1.0| 1.0\n",
      "classify_d99_k50_saved2.mat| 1.0| 1.0\n",
      "classify_d99_k60_saved1.mat| 1.0| 1.0\n",
      "classify_d99_k60_saved2.mat| 1.0| 1.0\n"
     ]
    }
   ],
   "source": [
    "results = []\n",
    "print(\"Results:\")\n",
    "print(\"File | Accuracy | sklearn Accuracy\")\n",
    "\n",
    "for file in os.listdir(\".\"):\n",
    "    if file.endswith(\".mat\"):\n",
    "        params = logistic_regression(data=file)\n",
    "        acc = test(params=params, data = file)\n",
    "        sk_acc = test_sklearn(data = file)\n",
    "        print(str(file) + \"| \"+ str(acc) + \"| \"+ str(sk_acc))\n",
    "        results.append([file, acc, sk_acc])"
   ]
  },
  {
   "cell_type": "markdown",
   "metadata": {},
   "source": [
    "It is clear this classifier work very well for the larger datasets. "
   ]
  },
  {
   "cell_type": "code",
   "execution_count": null,
   "metadata": {
    "collapsed": true
   },
   "outputs": [],
   "source": []
  }
 ],
 "metadata": {
  "kernelspec": {
   "display_name": "Python 3",
   "language": "python",
   "name": "python3"
  },
  "language_info": {
   "codemirror_mode": {
    "name": "ipython",
    "version": 3
   },
   "file_extension": ".py",
   "mimetype": "text/x-python",
   "name": "python",
   "nbconvert_exporter": "python",
   "pygments_lexer": "ipython3",
   "version": "3.6.2"
  }
 },
 "nbformat": 4,
 "nbformat_minor": 2
}
